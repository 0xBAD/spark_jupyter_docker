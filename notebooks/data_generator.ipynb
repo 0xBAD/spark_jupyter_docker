{
 "cells": [
  {
   "cell_type": "code",
   "execution_count": 10,
   "metadata": {},
   "outputs": [
    {
     "data": {
      "text/plain": [
       "'2020-03-12 18:21:21.031916'"
      ]
     },
     "execution_count": 10,
     "metadata": {},
     "output_type": "execute_result"
    }
   ],
   "source": [
    "import csv\n",
    "from datetime import datetime, timedelta\n",
    "from time import sleep\n",
    "from random import randint"
   ]
  },
  {
   "cell_type": "code",
   "execution_count": 24,
   "metadata": {},
   "outputs": [],
   "source": [
    "with open('logins.csv', 'a', newline='') as csvfile:\n",
    "    spamwriter = csv.writer(csvfile, delimiter=';',\n",
    "                            quotechar='|', quoting=csv.QUOTE_MINIMAL)\n",
    "    spamwriter.writerow(['user_id', 'login_datetime'])\n",
    "     \n",
    "    for user_id in range(1,11):\n",
    "        sleep(3)\n",
    "        d = datetime.now()\n",
    "        for _ in range(30):\n",
    "            spamwriter.writerow([f'{user_id}', d.strftime(\"%Y-%m-%d %H:%M:%S.%f\")])\n",
    "            d = d - timedelta(days=1)\n",
    "            \n"
   ]
  },
  {
   "cell_type": "code",
   "execution_count": 25,
   "metadata": {},
   "outputs": [],
   "source": [
    "with open('logouts.csv', 'a', newline='') as csvfile:\n",
    "    spamwriter = csv.writer(csvfile, delimiter=';',\n",
    "                            quotechar='|', quoting=csv.QUOTE_MINIMAL)\n",
    "    spamwriter.writerow(['user_id', 'logout_datetime'])\n",
    "     \n",
    "    for user_id in range(1,11):\n",
    "        sleep(3)\n",
    "        d = datetime.now()\n",
    "        for _ in range(30):\n",
    "            spamwriter.writerow([f'{user_id}', d.strftime(\"%Y-%m-%d %H:%M:%S.%f\")])\n",
    "            d = d - timedelta(days=1)"
   ]
  },
  {
   "cell_type": "code",
   "execution_count": 34,
   "metadata": {},
   "outputs": [],
   "source": [
    "with open('payments.csv', 'a', newline='') as csvfile:\n",
    "    spamwriter = csv.writer(csvfile, delimiter=';',\n",
    "                            quotechar='|', quoting=csv.QUOTE_MINIMAL)\n",
    "    spamwriter.writerow(['user_id', 'payment_datetime', 'payment_sum'])\n",
    "     \n",
    "    for _ in range(3):\n",
    "        sleep(3)\n",
    "        d = datetime.now() - timedelta(days=27)\n",
    "        for user_id in range(1,11):\n",
    "            d = d - timedelta(days=1)\n",
    "            spamwriter.writerow([f'{user_id}', \n",
    "                                 d.strftime(\"%Y-%m-%d %H:%M:%S.%f\"), \n",
    "                                 randint(0,2)])\n",
    "            \n",
    "            \n",
    "            "
   ]
  },
  {
   "cell_type": "code",
   "execution_count": 28,
   "metadata": {},
   "outputs": [],
   "source": [
    "with open(\"user_classes.csv\",\"w\", newline=\"\") as csvfile:\n",
    "    spamwriter = csv.writer(csvfile, delimiter=';',\n",
    "                            quotechar='|', quoting=csv.QUOTE_MINIMAL)\n",
    "    spamwriter.writerow(['user_id', 'dt', 'character','session_time'])\n",
    "    characters = [\"warrior\",\n",
    "                  \"ranger\",\n",
    "                  \"wizard\",\n",
    "                  \"rogue\",\n",
    "                  \"sorcerer\",\n",
    "                  \"barbarian\",\n",
    "                  \"paladin\",\n",
    "                  \"necromancer\"] \n",
    "    \n",
    "    for _ in range(40):\n",
    "        sleep(3)\n",
    "        d = datetime.now()\n",
    "        for user_id in range(1,11):\n",
    "            d = d - timedelta(days=1)\n",
    "            spamwriter.writerow([f'{user_id}', \n",
    "                                 d.strftime(\"%Y-%m-%d %H:%M:%S.%f\"), \n",
    "                                 characters[randint(0,7)],\n",
    "                                 randint(1,7200)])\n",
    "            "
   ]
  },
  {
   "cell_type": "code",
   "execution_count": 29,
   "metadata": {},
   "outputs": [],
   "source": [
    "with open('user_reg.csv', 'w', newline='') as csvfile:\n",
    "    spamwriter = csv.writer(csvfile, delimiter=';',\n",
    "                            quotechar='|', quoting=csv.QUOTE_MINIMAL)\n",
    "    spamwriter.writerow(['user_id', 'reg_dt'])\n",
    "    d = datetime.now() - timedelta(days=40)\n",
    "    for user_id in range(1,11):\n",
    "        sleep(3)\n",
    "        spamwriter.writerow([user_id, \n",
    "                             d.strftime(\"%Y-%m-%d %H:%M:%S.%f\"), \n",
    "                            ])\n",
    "        d = d - timedelta(days=1)\n",
    "            \n",
    "            \n",
    "            "
   ]
  }
 ],
 "metadata": {
  "kernelspec": {
   "display_name": "Python 3",
   "language": "python",
   "name": "python3"
  },
  "language_info": {
   "codemirror_mode": {
    "name": "ipython",
    "version": 3
   },
   "file_extension": ".py",
   "mimetype": "text/x-python",
   "name": "python",
   "nbconvert_exporter": "python",
   "pygments_lexer": "ipython3",
   "version": "3.7.6"
  }
 },
 "nbformat": 4,
 "nbformat_minor": 4
}
